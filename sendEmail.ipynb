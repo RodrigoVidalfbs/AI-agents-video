{
 "cells": [
  {
   "cell_type": "code",
   "execution_count": 1,
   "metadata": {},
   "outputs": [],
   "source": [
    "import smtplib\n",
    "from email.mime.text import MIMEText\n",
    "from email.mime.multipart import MIMEMultipart\n",
    "import os\n",
    "from dotenv import load_dotenv\n",
    "\n",
    "\n",
    "# Load environment variables\n",
    "load_dotenv()\n",
    "\n",
    "def send_email(email_recipient, email_subject, email_body):\n",
    "    # Configurações do e-mail\n",
    "    smtp_server = \"smtp.gmail.com\"\n",
    "    smtp_port = 465\n",
    "    email_sender = os.getenv(\"EMAIL\") \n",
    "    email_password = os.getenv(\"SENHA_EMAIL\") \n",
    "    # Criação do e-mail\n",
    "    message = MIMEMultipart()\n",
    "    message[\"From\"] = email_sender\n",
    "    message[\"To\"] = email_recipient\n",
    "    message[\"Subject\"] = email_subject\n",
    "\n",
    "    # Anexa o corpo do e-mail ao objeto message\n",
    "    message.attach(MIMEText(email_body, \"plain\"))\n",
    "\n",
    "    try:\n",
    "        # Conexão ao servidor SMTP\n",
    "        server = smtplib.SMTP_SSL(smtp_server, smtp_port)\n",
    "        server.login(email_sender, email_password)  # Login no servidor        \n",
    "        text = message.as_string()  # Converte o objeto message em string\n",
    "        server.sendmail(email_sender, email_recipient, text)  # Envia o e-mail\n",
    "        return \"E-mail enviado com sucesso!\"\n",
    "    except Exception as e:\n",
    "        return f\"Erro ao enviar e-mail: {e}\"\n",
    "    finally:\n",
    "        server.quit()  # Fecha a conexão com o servidor\n",
    "\n"
   ]
  },
  {
   "cell_type": "code",
   "execution_count": 2,
   "metadata": {},
   "outputs": [
    {
     "name": "stdout",
     "output_type": "stream",
     "text": [
      "E-mail enviado com sucesso!\n"
     ]
    }
   ],
   "source": [
    "\n",
    "\n",
    "send_email(\"rodrigovidalxc@gmail.com\", \"teste\",\"oiiiii\")"
   ]
  }
 ],
 "metadata": {
  "kernelspec": {
   "display_name": ".venv",
   "language": "python",
   "name": "python3"
  },
  "language_info": {
   "codemirror_mode": {
    "name": "ipython",
    "version": 3
   },
   "file_extension": ".py",
   "mimetype": "text/x-python",
   "name": "python",
   "nbconvert_exporter": "python",
   "pygments_lexer": "ipython3",
   "version": "3.12.3"
  }
 },
 "nbformat": 4,
 "nbformat_minor": 2
}
